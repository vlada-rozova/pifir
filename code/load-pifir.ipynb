{
 "cells": [
  {
   "cell_type": "code",
   "execution_count": 1,
   "id": "8745c00d",
   "metadata": {},
   "outputs": [],
   "source": [
    "import numpy as np\n",
    "import pandas as pd\n",
    "from utils.dataset import *\n",
    "from utils.text import clean_text"
   ]
  },
  {
   "cell_type": "markdown",
   "id": "48667ec5",
   "metadata": {},
   "source": [
    "___\n",
    "# Load cytology and histopathology reports\n",
    "### Load metadata"
   ]
  },
  {
   "cell_type": "code",
   "execution_count": 2,
   "id": "266d14c6",
   "metadata": {},
   "outputs": [
    {
     "name": "stdout",
     "output_type": "stream",
     "text": [
      "(201, 6)\n"
     ]
    },
    {
     "data": {
      "text/html": [
       "<div>\n",
       "<style scoped>\n",
       "    .dataframe tbody tr th:only-of-type {\n",
       "        vertical-align: middle;\n",
       "    }\n",
       "\n",
       "    .dataframe tbody tr th {\n",
       "        vertical-align: top;\n",
       "    }\n",
       "\n",
       "    .dataframe thead th {\n",
       "        text-align: right;\n",
       "    }\n",
       "</style>\n",
       "<table border=\"1\" class=\"dataframe\">\n",
       "  <thead>\n",
       "    <tr style=\"text-align: right;\">\n",
       "      <th></th>\n",
       "      <th>patient_id</th>\n",
       "      <th>scan_no</th>\n",
       "      <th>imaging_id</th>\n",
       "      <th>is_ifi_episode</th>\n",
       "      <th>val_fold</th>\n",
       "      <th>dataset</th>\n",
       "    </tr>\n",
       "  </thead>\n",
       "  <tbody>\n",
       "    <tr>\n",
       "      <th>0</th>\n",
       "      <td>254</td>\n",
       "      <td>2</td>\n",
       "      <td>100</td>\n",
       "      <td>True</td>\n",
       "      <td>5.0</td>\n",
       "      <td>development</td>\n",
       "    </tr>\n",
       "    <tr>\n",
       "      <th>1</th>\n",
       "      <td>56</td>\n",
       "      <td>1</td>\n",
       "      <td>106</td>\n",
       "      <td>True</td>\n",
       "      <td>5.0</td>\n",
       "      <td>development</td>\n",
       "    </tr>\n",
       "    <tr>\n",
       "      <th>2</th>\n",
       "      <td>231</td>\n",
       "      <td>2</td>\n",
       "      <td>111</td>\n",
       "      <td>True</td>\n",
       "      <td>1.0</td>\n",
       "      <td>development</td>\n",
       "    </tr>\n",
       "    <tr>\n",
       "      <th>3</th>\n",
       "      <td>262</td>\n",
       "      <td>1</td>\n",
       "      <td>119</td>\n",
       "      <td>True</td>\n",
       "      <td>1.0</td>\n",
       "      <td>development</td>\n",
       "    </tr>\n",
       "    <tr>\n",
       "      <th>4</th>\n",
       "      <td>3</td>\n",
       "      <td>1</td>\n",
       "      <td>125</td>\n",
       "      <td>False</td>\n",
       "      <td>4.0</td>\n",
       "      <td>development</td>\n",
       "    </tr>\n",
       "  </tbody>\n",
       "</table>\n",
       "</div>"
      ],
      "text/plain": [
       "   patient_id  scan_no  imaging_id  is_ifi_episode  val_fold      dataset\n",
       "0         254        2         100            True       5.0  development\n",
       "1          56        1         106            True       5.0  development\n",
       "2         231        2         111            True       1.0  development\n",
       "3         262        1         119            True       1.0  development\n",
       "4           3        1         125           False       4.0  development"
      ]
     },
     "execution_count": 2,
     "metadata": {},
     "output_type": "execute_result"
    }
   ],
   "source": [
    "# Define path to CHIFIR dataset\n",
    "path = \"../../../Data/PIFIR/\"\n",
    "\n",
    "# Load a csv file with report IDs and labels\n",
    "df = pd.read_csv(path + \"/pifir_metadata.csv\")\n",
    "print(df.shape)\n",
    "df.head()"
   ]
  },
  {
   "cell_type": "markdown",
   "id": "ba7f214d",
   "metadata": {},
   "source": [
    "### Load report texts"
   ]
  },
  {
   "cell_type": "code",
   "execution_count": 3,
   "id": "bb372689",
   "metadata": {},
   "outputs": [],
   "source": [
    "# Read report texts\n",
    "df['order_results'] = df.apply(read_reports, path=path+\"reports/\", axis=1)"
   ]
  },
  {
   "cell_type": "markdown",
   "id": "140998df",
   "metadata": {},
   "source": [
    "### Summary statistics"
   ]
  },
  {
   "cell_type": "code",
   "execution_count": 4,
   "id": "33c2486e",
   "metadata": {},
   "outputs": [
    {
     "name": "stdout",
     "output_type": "stream",
     "text": [
      "Total number of reports: 201\n",
      "Total number of unique patients: 156\n",
      "Number of reports per patient varies from 1 to 2 with a median value of 1.\n",
      "The average document length is 1808 characters.\n"
     ]
    }
   ],
   "source": [
    "print(\"Total number of reports:\", df.shape[0])\n",
    "print(\"Total number of unique patients:\", df.patient_id.nunique())\n",
    "print(\"Number of reports per patient varies from %d to %d with a median value of %d.\" % \n",
    "      (df.groupby('patient_id').size().min(), \n",
    "       df.groupby('patient_id').size().max(), \n",
    "       df.groupby('patient_id').size().median())\n",
    "     )\n",
    "print(\"The average document length is %d characters.\" % df.order_results.apply(len).mean())"
   ]
  },
  {
   "cell_type": "markdown",
   "id": "fbe721a5",
   "metadata": {},
   "source": [
    "### Examine data splits"
   ]
  },
  {
   "cell_type": "code",
   "execution_count": 5,
   "id": "7264f7d3",
   "metadata": {},
   "outputs": [
    {
     "data": {
      "text/plain": [
       "dataset\n",
       "development    159\n",
       "test            42\n",
       "Name: count, dtype: int64"
      ]
     },
     "execution_count": 5,
     "metadata": {},
     "output_type": "execute_result"
    }
   ],
   "source": [
    "# How many reports in dev and test sets?\n",
    "df.dataset.value_counts(dropna=False)"
   ]
  },
  {
   "cell_type": "code",
   "execution_count": 6,
   "id": "85cab5ab",
   "metadata": {},
   "outputs": [
    {
     "data": {
      "text/plain": [
       "val_fold\n",
       "1.0    31\n",
       "2.0    35\n",
       "3.0    32\n",
       "4.0    30\n",
       "5.0    31\n",
       "Name: count, dtype: int64"
      ]
     },
     "execution_count": 6,
     "metadata": {},
     "output_type": "execute_result"
    }
   ],
   "source": [
    "# How many reports in each CV fold?\n",
    "df.val_fold.value_counts().sort_index()"
   ]
  },
  {
   "cell_type": "markdown",
   "id": "972ee3d5",
   "metadata": {},
   "source": [
    "### Parse files with gold standard annotations"
   ]
  },
  {
   "cell_type": "code",
   "execution_count": 7,
   "id": "a5764f66",
   "metadata": {},
   "outputs": [
    {
     "name": "stdout",
     "output_type": "stream",
     "text": [
      "Found 155 discontinous concepts that should be merged\n",
      "Extracted 3134 concepts and 1960 relations.\n",
      "After handling discontinous concepts, there are a total of 3194 concepts.\n",
      "Totalling 3466 concepts and composite concepts.\n"
     ]
    }
   ],
   "source": [
    "# Map character positions before and after text pre-processing\n",
    "df['pos_mapping'] = df.order_results.apply(clean_text, return_mapping=True)\n",
    "\n",
    "read_annotations(df, path=path+\"annotations/\")"
   ]
  },
  {
   "cell_type": "markdown",
   "id": "abc67b99",
   "metadata": {},
   "source": [
    "### Save datasets"
   ]
  },
  {
   "cell_type": "code",
   "execution_count": 8,
   "id": "b49e5f3f",
   "metadata": {},
   "outputs": [],
   "source": [
    "df[df.dataset=='development'].to_csv(\"../datasets/reports_dev.csv\", index=False)\n",
    "df[df.dataset=='test'].to_csv(\"../datasets/reports_test.csv\", index=False)"
   ]
  },
  {
   "cell_type": "code",
   "execution_count": null,
   "id": "9bb40431",
   "metadata": {},
   "outputs": [],
   "source": []
  }
 ],
 "metadata": {
  "kernelspec": {
   "display_name": "pet",
   "language": "python",
   "name": "python3"
  },
  "language_info": {
   "codemirror_mode": {
    "name": "ipython",
    "version": 3
   },
   "file_extension": ".py",
   "mimetype": "text/x-python",
   "name": "python",
   "nbconvert_exporter": "python",
   "pygments_lexer": "ipython3",
   "version": "3.11.7"
  }
 },
 "nbformat": 4,
 "nbformat_minor": 5
}
